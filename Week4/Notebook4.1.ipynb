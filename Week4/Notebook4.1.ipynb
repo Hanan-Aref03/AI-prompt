{
  "cells": [
    {
      "cell_type": "markdown",
      "metadata": {
        "id": "view-in-github",
        "colab_type": "text"
      },
      "source": [
        "<a href=\"https://colab.research.google.com/github/Hanan-Aref03/AI-prompt/blob/main/Week4/Notebook4.1.ipynb\" target=\"_parent\"><img src=\"https://colab.research.google.com/assets/colab-badge.svg\" alt=\"Open In Colab\"/></a>"
      ]
    },
    {
      "cell_type": "markdown",
      "id": "5903d1dd",
      "metadata": {
        "id": "5903d1dd"
      },
      "source": [
        "## Problem Statement"
      ]
    },
    {
      "cell_type": "markdown",
      "id": "cf87f1ae",
      "metadata": {
        "id": "cf87f1ae"
      },
      "source": [
        "In the era of growing medical data and the ascent of Data Science, numerous potential solutions are embracing the challenge of developing predictive indicators for potential diseases. Among these are the cardiovascular diseases (CVDs), which stand out as the leading global cause of mortality, claiming around 17.9 million lives annually and constituting 31% of total global deaths. Within the context of CVDs, heart failure emerges as the most occurrent. Individuals with cardiovascular disease, or those at a heightened cardiovascular risk due to factors like hypertension, diabetes, hyperlipidemia, or pre-existing conditions, necessitate early identification and intervention. This is where the application of machine learning models can play a very life-saving and imensly important role. By doing so, we aim to build this notebook to automate the resolution of yet another natural problem, leveraging AI techniques to transition our focus towards tackling the subsequent challenges.\n",
        "\n",
        "#### * We continue to build and explaing parts of this notebook as we progress with our Programming for Applied AI course. In the Objectives section, we state the goal of the current version of the notebook.\n",
        "\n",
        "#### * The objective of providing you with these notebooks is for you to get hands on experience with the different concepts covered thoughout the course lessons.\n",
        "\n",
        "#### * For practicing, we advise you to run all the cells. You can do this by selection \"Run All\" from the \"Cell\" tab in the navigation bar on top. For running individual cells, you have to select the cell you want, the click \"Run\" in the navigation bar. Please refer to the video in Week 3 / Practical Exercises for more information on how you can use this notebook."
      ]
    },
    {
      "cell_type": "markdown",
      "id": "86b59399",
      "metadata": {
        "id": "86b59399"
      },
      "source": [
        "## Objectives"
      ]
    },
    {
      "cell_type": "markdown",
      "id": "a1601d98",
      "metadata": {
        "id": "a1601d98"
      },
      "source": [
        "- Understand the heart failure prediction dataset and its content.\n",
        "- Apply Lists and use the Iterators and Loops covered in week 3."
      ]
    },
    {
      "cell_type": "markdown",
      "id": "0aa14c89",
      "metadata": {
        "id": "0aa14c89"
      },
      "source": [
        "## Dataset Description"
      ]
    },
    {
      "cell_type": "markdown",
      "id": "3f3f3f84",
      "metadata": {
        "id": "3f3f3f84"
      },
      "source": [
        "A dataset contains a set of columns, which we refer to as attributes. An instance of these combined attributes forms a row. Each of these attributes gives us additional information about the patient state, which can help in identifying if the patient possiblly has a heart diseas. A collection of rows forms that dataset. This data is the core of our machine learning model that we are going to build throughout the lessons. A \"prediction\", which can also be called a \"label\", is the classification of every row refering to a possibility of a heart disease with a yes/no or 0/1."
      ]
    },
    {
      "cell_type": "markdown",
      "id": "79415942",
      "metadata": {
        "id": "79415942"
      },
      "source": [
        "## Dataset Attributes Description"
      ]
    },
    {
      "cell_type": "markdown",
      "id": "76f5ac69",
      "metadata": {
        "id": "76f5ac69"
      },
      "source": [
        "In the attached documents, you can find 'heart.csv', which cantains the heatt disease dataset.\n",
        "\n",
        "Below are the list of columns/attributes in the dataset. We explain the meaning of each of the attributes.\n",
        "\n",
        "- Age : age of the patient [years]\n",
        "- Sex : sex of the patient [M: Male, F: Female]\n",
        "- ChestPainType : chest pain type [TA: Typical Angina, ATA: Atypical Angina, NAP: Non-Anginal Pain, ASY: Asymptomatic]\n",
        "- RestingBP : resting blood pressure [mm Hg]\n",
        "- Cholesterol : serum cholesterol [mm/dl]\n",
        "- FastingBS : fasting blood sugar [1: if FastingBS > 120 mg/dl, 0: otherwise]\n",
        "- RestingECG : resting electrocardiogram results [Normal: Normal, ST: having ST-T wave abnormality (T wave inversions and/or ST elevation or depression of > 0.05 mV), LVH: showing probable or definite left ventricular hypertrophy by Estes' criteria]\n",
        "- MaxHR : maximum heart rate achieved [Numeric value between 60 and 202]\n",
        "- ExerciseAngina : exercise-induced angina [Y: Yes, N: No]\n",
        "- Oldpeak : oldpeak = ST [Numeric value measured in depression]\n",
        "- ST_Slope : the slope of the peak exercise ST segment [Up: upsloping, Flat: flat, Down: downsloping]\n",
        "- HeartDisease : output class [1: heart disease, 0: Normal]"
      ]
    },
    {
      "cell_type": "markdown",
      "id": "c2dbf349",
      "metadata": {
        "id": "c2dbf349"
      },
      "source": [
        "# <center><div style=\"font-family: Trebuchet MS; background-color: #000000; color: #FFFF; padding: 10px; line-height: 1;\">Do not worry about the following code cells, we are going to cover it later. For now, after you run all the cells, scroll down to \"Dictionaries Practice\" and attempt to solve the exercises described in the lessons.</div></center>"
      ]
    },
    {
      "cell_type": "markdown",
      "id": "bacdcee0",
      "metadata": {
        "id": "bacdcee0"
      },
      "source": [
        "#### Import libraries/modules"
      ]
    },
    {
      "cell_type": "code",
      "execution_count": 1,
      "id": "b09dcc08",
      "metadata": {
        "id": "b09dcc08",
        "outputId": "d3522f2a-717f-4307-8852-edb8a29abba9",
        "colab": {
          "base_uri": "https://localhost:8080/"
        }
      },
      "outputs": [
        {
          "output_type": "stream",
          "name": "stdout",
          "text": [
            "Requirement already satisfied: pandas in /usr/local/lib/python3.10/dist-packages (2.2.2)\n",
            "Requirement already satisfied: numpy in /usr/local/lib/python3.10/dist-packages (1.26.4)\n",
            "Requirement already satisfied: matplotlib in /usr/local/lib/python3.10/dist-packages (3.8.0)\n",
            "Requirement already satisfied: seaborn in /usr/local/lib/python3.10/dist-packages (0.13.2)\n",
            "Requirement already satisfied: python-dateutil>=2.8.2 in /usr/local/lib/python3.10/dist-packages (from pandas) (2.8.2)\n",
            "Requirement already satisfied: pytz>=2020.1 in /usr/local/lib/python3.10/dist-packages (from pandas) (2024.2)\n",
            "Requirement already satisfied: tzdata>=2022.7 in /usr/local/lib/python3.10/dist-packages (from pandas) (2024.2)\n",
            "Requirement already satisfied: contourpy>=1.0.1 in /usr/local/lib/python3.10/dist-packages (from matplotlib) (1.3.1)\n",
            "Requirement already satisfied: cycler>=0.10 in /usr/local/lib/python3.10/dist-packages (from matplotlib) (0.12.1)\n",
            "Requirement already satisfied: fonttools>=4.22.0 in /usr/local/lib/python3.10/dist-packages (from matplotlib) (4.55.0)\n",
            "Requirement already satisfied: kiwisolver>=1.0.1 in /usr/local/lib/python3.10/dist-packages (from matplotlib) (1.4.7)\n",
            "Requirement already satisfied: packaging>=20.0 in /usr/local/lib/python3.10/dist-packages (from matplotlib) (24.2)\n",
            "Requirement already satisfied: pillow>=6.2.0 in /usr/local/lib/python3.10/dist-packages (from matplotlib) (11.0.0)\n",
            "Requirement already satisfied: pyparsing>=2.3.1 in /usr/local/lib/python3.10/dist-packages (from matplotlib) (3.2.0)\n",
            "Requirement already satisfied: six>=1.5 in /usr/local/lib/python3.10/dist-packages (from python-dateutil>=2.8.2->pandas) (1.16.0)\n"
          ]
        }
      ],
      "source": [
        "# Install Packages\n",
        "!pip install pandas numpy matplotlib seaborn"
      ]
    },
    {
      "cell_type": "code",
      "execution_count": 2,
      "id": "862046b8",
      "metadata": {
        "id": "862046b8"
      },
      "outputs": [],
      "source": [
        "import pandas as pd\n",
        "import numpy as np\n",
        "import matplotlib.pyplot as plt\n",
        "%matplotlib inline\n",
        "import seaborn as sns\n",
        "pd.options.display.float_format = '{:.2f}'.format\n",
        "import warnings\n",
        "warnings.filterwarnings('ignore')"
      ]
    },
    {
      "cell_type": "markdown",
      "id": "c4ec22c7",
      "metadata": {
        "id": "c4ec22c7"
      },
      "source": [
        "### Reading Data"
      ]
    },
    {
      "cell_type": "code",
      "execution_count": null,
      "id": "f5a8d1ea",
      "metadata": {
        "id": "f5a8d1ea"
      },
      "outputs": [],
      "source": [
        "import csv\n",
        "\n",
        "data = []\n",
        "\n",
        "with open('./data/heart.csv', mode='r') as csv_file:\n",
        "    # Create a CSV reader object\n",
        "    csv_reader = csv.DictReader(csv_file)\n",
        "\n",
        "    # Loop through each row in the CSV file\n",
        "    for row in csv_reader:\n",
        "        # Append each row (as a dictionary) to the data list\n",
        "        data.append(row)"
      ]
    },
    {
      "cell_type": "markdown",
      "id": "9af3c025",
      "metadata": {
        "id": "9af3c025"
      },
      "source": [
        "### Here is a sample of the first row in the dataset. You can see the keys as the attributes, which are associated with values"
      ]
    },
    {
      "cell_type": "code",
      "execution_count": null,
      "id": "4eeaf0c1",
      "metadata": {
        "id": "4eeaf0c1"
      },
      "outputs": [],
      "source": [
        "data[0]"
      ]
    },
    {
      "cell_type": "markdown",
      "id": "b1053424",
      "metadata": {
        "id": "b1053424"
      },
      "source": [
        "# <center><div style=\"font-family: Trebuchet MS; background-color: #F93822; color: #FDD20E; padding: 12px; line-height: 1;\">Lesson 2 - Dictionaries Practice</div></center>"
      ]
    },
    {
      "cell_type": "code",
      "execution_count": null,
      "id": "88f29cfe",
      "metadata": {
        "id": "88f29cfe"
      },
      "outputs": [],
      "source": [
        "# Create a dictionary to store patient information\n",
        "patient_data = {\n",
        "    \"age\": 55,\n",
        "    \"sex\": \"Male\",\n",
        "    \"chest_pain_type\": \"TA\",\n",
        "    \"resting_bp\": 130,\n",
        "    # ... other attributes from the dataset\n",
        "}\n",
        "\n",
        "# Accessing specific attributes\n",
        "print(patient_data[\"age\"])\n",
        "print(patient_data[\"chest_pain_type\"])\n",
        "\n",
        "# Adding a new attribute (e.g., heart_disease)\n",
        "patient_data[\"heart_disease\"] = 1  # 1 for heart disease, 0 for no heart disease\n",
        "\n",
        "# Iterating over key-value pairs\n",
        "for key, value in patient_data.items():\n",
        "    print(f\"{key}: {value}\")"
      ]
    },
    {
      "cell_type": "markdown",
      "id": "919c2ebc",
      "metadata": {
        "id": "919c2ebc"
      },
      "source": [
        "# <center><div style=\"font-family: Trebuchet MS; background-color: #F93822; color: #FDD20E; padding: 12px; line-height: 1;\">Lesson 3 - Functions Practice</div></center>"
      ]
    },
    {
      "cell_type": "code",
      "source": [
        "import pandas as pd\n",
        "\n",
        "def load_data(filename):\n",
        "    \"\"\"Loads the heart disease dataset from a CSV file.\"\"\"\n",
        "    data = pd.read_csv(filename)\n",
        "    return data\n",
        "\n",
        "def preprocess_data(data):\n",
        "    \"\"\"Preprocesses the data (e.g., handling missing values, feature scaling).\"\"\"\n",
        "    # ... preprocessing steps\n",
        "    return preprocessed_data\n",
        "\n",
        "def train_model(X_train, y_train):\n",
        "    \"\"\"Trains a machine learning model.\"\"\"\n",
        "    # ... model training steps\n",
        "    return model\n",
        "\n",
        "def predict(model, X_test):\n",
        "    \"\"\"Makes predictions on new data.\"\"\"\n",
        "    y_pred = model.predict(X_test)\n",
        "    return y_pred\n",
        "\n",
        "# Example usage\n",
        "data = load_data(\"heart.csv\")\n",
        "preprocessed_data = preprocess_data(data)\n",
        "X_train, X_test, y_train, y_test = train_test_split(preprocessed_data)\n",
        "model = train_model(X_train, y_train)\n",
        "predictions = predict(model, X_test)"
      ],
      "metadata": {
        "id": "PK-94potu0Iq"
      },
      "id": "PK-94potu0Iq",
      "execution_count": null,
      "outputs": []
    },
    {
      "cell_type": "markdown",
      "id": "718fe86f",
      "metadata": {
        "id": "718fe86f"
      },
      "source": [
        "# <center><div style=\"font-family: Trebuchet MS; background-color: #F93822; color: #FDD20E; padding: 12px; line-height: 1;\">Lesson 4 - File Reading</div></center>"
      ]
    },
    {
      "cell_type": "code",
      "execution_count": null,
      "id": "6e561d48",
      "metadata": {
        "id": "6e561d48"
      },
      "outputs": [],
      "source": [
        "import pandas as pd\n",
        "\n",
        "# Read the CSV file\n",
        "data = pd.read_csv(\"heart.csv\")\n",
        "\n",
        "# Access specific columns\n",
        "age_column = data[\"age\"]\n",
        "chest_pain_column = data[\"chest_pain_type\"]\n",
        "\n",
        "# Iterate over rows\n",
        "for index, row in data.iterrows():\n",
        "    print(row[\"age\"], row[\"sex\"], row[\"chest_pain_type\"])"
      ]
    }
  ],
  "metadata": {
    "kernelspec": {
      "display_name": "Python 3 (ipykernel)",
      "language": "python",
      "name": "python3"
    },
    "language_info": {
      "codemirror_mode": {
        "name": "ipython",
        "version": 3
      },
      "file_extension": ".py",
      "mimetype": "text/x-python",
      "name": "python",
      "nbconvert_exporter": "python",
      "pygments_lexer": "ipython3",
      "version": "3.9.7"
    },
    "colab": {
      "provenance": [],
      "include_colab_link": true
    }
  },
  "nbformat": 4,
  "nbformat_minor": 5
}